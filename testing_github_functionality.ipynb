{
  "nbformat": 4,
  "nbformat_minor": 0,
  "metadata": {
    "colab": {
      "provenance": [],
      "authorship_tag": "ABX9TyMqfxRaRRdcz4PU7iNPcf+W",
      "include_colab_link": true
    },
    "kernelspec": {
      "name": "python3",
      "display_name": "Python 3"
    },
    "language_info": {
      "name": "python"
    }
  },
  "cells": [
    {
      "cell_type": "markdown",
      "metadata": {
        "id": "view-in-github",
        "colab_type": "text"
      },
      "source": [
        "<a href=\"https://colab.research.google.com/github/24mahik/colab-test/blob/main/testing_github_functionality.ipynb\" target=\"_parent\"><img src=\"https://colab.research.google.com/assets/colab-badge.svg\" alt=\"Open In Colab\"/></a>"
      ]
    },
    {
      "cell_type": "code",
      "execution_count": null,
      "metadata": {
        "id": "7NXqn6s56mrN",
        "outputId": "1b8a5d86-2eac-4a0d-89d3-b91c6dca1eee",
        "colab": {
          "base_uri": "https://localhost:8080/"
        }
      },
      "outputs": [
        {
          "output_type": "stream",
          "name": "stdout",
          "text": [
            "      Name  Age      City\n",
            "0    Alice   25  New York\n",
            "1      Bob   30    London\n",
            "2  Charlie   28     Paris\n",
            "0      Alice\n",
            "1        Bob\n",
            "2    Charlie\n",
            "Name: Name, dtype: object\n",
            "  Name  Age    City\n",
            "1  Bob   30  London\n",
            "27.666666666666668\n"
          ]
        }
      ],
      "source": [
        "# prompt: can you generate some pandas code for me\n",
        "\n",
        "import pandas as pd\n",
        "\n",
        "# Create a sample DataFrame\n",
        "data = {'Name': ['Alice', 'Bob', 'Charles'],\n",
        "        'Age': [25, 30, 28],\n",
        "        'City': ['New York', 'London', 'Paris']}\n",
        "df = pd.DataFrame(data)\n",
        "\n",
        "# Display the DataFrame\n",
        "print(df)\n",
        "\n",
        "# Access specific columns\n",
        "print(df['Name'])\n",
        "\n",
        "# Filter rows based on a condition\n",
        "print(df[df['Age'] > 28])\n",
        "\n",
        "# Calculate the mean of a column\n",
        "print(df['Age'].mean())\n"
      ]
    },
    {
      "cell_type": "code",
      "source": [
        "# prompt: can you plot my dataframe from above?\n",
        "\n",
        "import matplotlib.pyplot as plt\n",
        "\n",
        "# Create a bar plot of ages\n",
        "plt.bar(df['Name'], df['Age'])\n",
        "plt.xlabel('Name')\n",
        "plt.ylabel('Age')\n",
        "plt.title('Age Distribution')\n",
        "plt.show()\n"
      ],
      "metadata": {
        "id": "mE8v304b9ipO",
        "outputId": "3579bfd0-c0aa-42c3-e450-a69a7f96b362",
        "colab": {
          "base_uri": "https://localhost:8080/",
          "height": 472
        }
      },
      "execution_count": null,
      "outputs": [
        {
          "output_type": "display_data",
          "data": {
            "text/plain": [
              "<Figure size 640x480 with 1 Axes>"
            ],
            "image/png": "[encoded data removed]"
          },
          "metadata": {}
        }
      ]
    }
  ]
}